{
 "cells": [
  {
   "cell_type": "markdown",
   "metadata": {
    "id": "TCPPKFmzJRS6"
   },
   "source": [
    "# Vehicle Loan Prediction Machine Learning Model\n",
    "\n",
    "# Chapter 6 Model Evaluation"
   ]
  },
  {
   "cell_type": "code",
   "execution_count": 1,
   "metadata": {
    "executionInfo": {
     "elapsed": 309,
     "status": "ok",
     "timestamp": 1690877580659,
     "user": {
      "displayName": "John Lee",
      "userId": "02515819222392311164"
     },
     "user_tz": -540
    },
    "id": "-owl_yg6JRS-"
   },
   "outputs": [],
   "source": [
    "import pandas as pd\n",
    "import matplotlib.pyplot as plt\n",
    "import numpy as np\n",
    "import seaborn as sns\n",
    "from sklearn.linear_model import LogisticRegression\n",
    "from sklearn.model_selection import train_test_split\n",
    "from sklearn.metrics import confusion_matrix, f1_score, accuracy_score, recall_score, roc_curve, auc, precision_score, ConfusionMatrixDisplay"
   ]
  },
  {
   "cell_type": "code",
   "execution_count": 6,
   "metadata": {
    "colab": {
     "base_uri": "https://localhost:8080/",
     "height": 311
    },
    "executionInfo": {
     "elapsed": 9,
     "status": "error",
     "timestamp": 1690877581095,
     "user": {
      "displayName": "John Lee",
      "userId": "02515819222392311164"
     },
     "user_tz": -540
    },
    "id": "Me3geE0oJRTB",
    "outputId": "5ef90f52-3e7a-4e61-df56-0ad7f04316b9"
   },
   "outputs": [],
   "source": [
    "loan_df = pd.read_csv('../data/vehicle_loans_feat.csv', index_col='UNIQUEID')"
   ]
  },
  {
   "cell_type": "code",
   "execution_count": 7,
   "metadata": {
    "executionInfo": {
     "elapsed": 7,
     "status": "aborted",
     "timestamp": 1690877581096,
     "user": {
      "displayName": "John Lee",
      "userId": "02515819222392311164"
     },
     "user_tz": -540
    },
    "id": "Cr7xWjIiJRTD"
   },
   "outputs": [],
   "source": [
    "category_cols = ['MANUFACTURER_ID', 'STATE_ID', 'DISBURSAL_MONTH', 'DISBURSED_CAT', 'PERFORM_CNS_SCORE_DESCRIPTION', 'EMPLOYMENT_TYPE']\n",
    "loan_df[category_cols] = loan_df[category_cols].astype('category')"
   ]
  },
  {
   "cell_type": "code",
   "execution_count": 8,
   "metadata": {
    "executionInfo": {
     "elapsed": 7,
     "status": "aborted",
     "timestamp": 1690877581097,
     "user": {
      "displayName": "John Lee",
      "userId": "02515819222392311164"
     },
     "user_tz": -540
    },
    "id": "zvHZvH0xJRTD"
   },
   "outputs": [
    {
     "data": {
      "text/html": [
       "<style>#sk-container-id-1 {color: black;background-color: white;}#sk-container-id-1 pre{padding: 0;}#sk-container-id-1 div.sk-toggleable {background-color: white;}#sk-container-id-1 label.sk-toggleable__label {cursor: pointer;display: block;width: 100%;margin-bottom: 0;padding: 0.3em;box-sizing: border-box;text-align: center;}#sk-container-id-1 label.sk-toggleable__label-arrow:before {content: \"▸\";float: left;margin-right: 0.25em;color: #696969;}#sk-container-id-1 label.sk-toggleable__label-arrow:hover:before {color: black;}#sk-container-id-1 div.sk-estimator:hover label.sk-toggleable__label-arrow:before {color: black;}#sk-container-id-1 div.sk-toggleable__content {max-height: 0;max-width: 0;overflow: hidden;text-align: left;background-color: #f0f8ff;}#sk-container-id-1 div.sk-toggleable__content pre {margin: 0.2em;color: black;border-radius: 0.25em;background-color: #f0f8ff;}#sk-container-id-1 input.sk-toggleable__control:checked~div.sk-toggleable__content {max-height: 200px;max-width: 100%;overflow: auto;}#sk-container-id-1 input.sk-toggleable__control:checked~label.sk-toggleable__label-arrow:before {content: \"▾\";}#sk-container-id-1 div.sk-estimator input.sk-toggleable__control:checked~label.sk-toggleable__label {background-color: #d4ebff;}#sk-container-id-1 div.sk-label input.sk-toggleable__control:checked~label.sk-toggleable__label {background-color: #d4ebff;}#sk-container-id-1 input.sk-hidden--visually {border: 0;clip: rect(1px 1px 1px 1px);clip: rect(1px, 1px, 1px, 1px);height: 1px;margin: -1px;overflow: hidden;padding: 0;position: absolute;width: 1px;}#sk-container-id-1 div.sk-estimator {font-family: monospace;background-color: #f0f8ff;border: 1px dotted black;border-radius: 0.25em;box-sizing: border-box;margin-bottom: 0.5em;}#sk-container-id-1 div.sk-estimator:hover {background-color: #d4ebff;}#sk-container-id-1 div.sk-parallel-item::after {content: \"\";width: 100%;border-bottom: 1px solid gray;flex-grow: 1;}#sk-container-id-1 div.sk-label:hover label.sk-toggleable__label {background-color: #d4ebff;}#sk-container-id-1 div.sk-serial::before {content: \"\";position: absolute;border-left: 1px solid gray;box-sizing: border-box;top: 0;bottom: 0;left: 50%;z-index: 0;}#sk-container-id-1 div.sk-serial {display: flex;flex-direction: column;align-items: center;background-color: white;padding-right: 0.2em;padding-left: 0.2em;position: relative;}#sk-container-id-1 div.sk-item {position: relative;z-index: 1;}#sk-container-id-1 div.sk-parallel {display: flex;align-items: stretch;justify-content: center;background-color: white;position: relative;}#sk-container-id-1 div.sk-item::before, #sk-container-id-1 div.sk-parallel-item::before {content: \"\";position: absolute;border-left: 1px solid gray;box-sizing: border-box;top: 0;bottom: 0;left: 50%;z-index: -1;}#sk-container-id-1 div.sk-parallel-item {display: flex;flex-direction: column;z-index: 1;position: relative;background-color: white;}#sk-container-id-1 div.sk-parallel-item:first-child::after {align-self: flex-end;width: 50%;}#sk-container-id-1 div.sk-parallel-item:last-child::after {align-self: flex-start;width: 50%;}#sk-container-id-1 div.sk-parallel-item:only-child::after {width: 0;}#sk-container-id-1 div.sk-dashed-wrapped {border: 1px dashed gray;margin: 0 0.4em 0.5em 0.4em;box-sizing: border-box;padding-bottom: 0.4em;background-color: white;}#sk-container-id-1 div.sk-label label {font-family: monospace;font-weight: bold;display: inline-block;line-height: 1.2em;}#sk-container-id-1 div.sk-label-container {text-align: center;}#sk-container-id-1 div.sk-container {/* jupyter's `normalize.less` sets `[hidden] { display: none; }` but bootstrap.min.css set `[hidden] { display: none !important; }` so we also need the `!important` here to be able to override the default hidden behavior on the sphinx rendered scikit-learn.org. See: https://github.com/scikit-learn/scikit-learn/issues/21755 */display: inline-block !important;position: relative;}#sk-container-id-1 div.sk-text-repr-fallback {display: none;}</style><div id=\"sk-container-id-1\" class=\"sk-top-container\"><div class=\"sk-text-repr-fallback\"><pre>LogisticRegression(max_iter=200)</pre><b>In a Jupyter environment, please rerun this cell to show the HTML representation or trust the notebook. <br />On GitHub, the HTML representation is unable to render, please try loading this page with nbviewer.org.</b></div><div class=\"sk-container\" hidden><div class=\"sk-item\"><div class=\"sk-estimator sk-toggleable\"><input class=\"sk-toggleable__control sk-hidden--visually\" id=\"sk-estimator-id-1\" type=\"checkbox\" checked><label for=\"sk-estimator-id-1\" class=\"sk-toggleable__label sk-toggleable__label-arrow\">LogisticRegression</label><div class=\"sk-toggleable__content\"><pre>LogisticRegression(max_iter=200)</pre></div></div></div></div></div>"
      ],
      "text/plain": [
       "LogisticRegression(max_iter=200)"
      ]
     },
     "execution_count": 8,
     "metadata": {},
     "output_type": "execute_result"
    }
   ],
   "source": [
    "small_cols = ['STATE_ID', 'LTV', 'DISBURSED_CAT', 'PERFORM_CNS_SCORE', 'DISBURSAL_MONTH', 'LOAN_DEFAULT']\n",
    "loan_df_sml = loan_df[small_cols]\n",
    "\n",
    "loan_data_dumm = pd.get_dummies(loan_df_sml, prefix_sep='_', drop_first=True)\n",
    "\n",
    "x = loan_data_dumm.drop(['LOAN_DEFAULT'], axis=1)\n",
    "y = loan_data_dumm['LOAN_DEFAULT']\n",
    "\n",
    "x_train, x_test, y_train, y_test = train_test_split(x, y, test_size=0.2, random_state=42)\n",
    "\n",
    "logistic_model = LogisticRegression(max_iter=200)\n",
    "logistic_model.fit(x_train, y_train)"
   ]
  },
  {
   "cell_type": "code",
   "execution_count": 9,
   "metadata": {
    "executionInfo": {
     "elapsed": 1044,
     "status": "aborted",
     "timestamp": 1690877581098,
     "user": {
      "displayName": "John Lee",
      "userId": "02515819222392311164"
     },
     "user_tz": -540
    },
    "id": "9i77e1pDJRTE"
   },
   "outputs": [
    {
     "data": {
      "text/plain": [
       "0.7822907507881023"
      ]
     },
     "execution_count": 9,
     "metadata": {},
     "output_type": "execute_result"
    }
   ],
   "source": [
    "logistic_model.score(x_test, y_test)"
   ]
  },
  {
   "cell_type": "markdown",
   "metadata": {
    "id": "sq8xunnlJRTE"
   },
   "source": [
    "## Evaluation Metrics\n",
    "\n",
    "### Confusion Matrix"
   ]
  },
  {
   "cell_type": "code",
   "execution_count": 10,
   "metadata": {
    "executionInfo": {
     "elapsed": 1042,
     "status": "aborted",
     "timestamp": 1690877581098,
     "user": {
      "displayName": "John Lee",
      "userId": "02515819222392311164"
     },
     "user_tz": -540
    },
    "id": "AISJkly6JRTE"
   },
   "outputs": [
    {
     "data": {
      "text/plain": [
       "array([0, 0, 0, ..., 0, 0, 0])"
      ]
     },
     "execution_count": 10,
     "metadata": {},
     "output_type": "execute_result"
    }
   ],
   "source": [
    "preds = logistic_model.predict(x_test)\n",
    "preds"
   ]
  },
  {
   "cell_type": "code",
   "execution_count": 11,
   "metadata": {
    "executionInfo": {
     "elapsed": 7,
     "status": "aborted",
     "timestamp": 1690877581412,
     "user": {
      "displayName": "John Lee",
      "userId": "02515819222392311164"
     },
     "user_tz": -540
    },
    "id": "qKHMNW2AJRTE"
   },
   "outputs": [
    {
     "data": {
      "text/plain": [
       "array([[36476,     1],\n",
       "       [10151,     3]])"
      ]
     },
     "execution_count": 11,
     "metadata": {},
     "output_type": "execute_result"
    }
   ],
   "source": [
    "conf_mat = confusion_matrix(y_test, preds)\n",
    "conf_mat"
   ]
  },
  {
   "cell_type": "markdown",
   "metadata": {
    "id": "ntyzgmrLJRTE"
   },
   "source": [
    "[confusion_matrix](https://scikit-learn.org/stable/modules/generated/sklearn.metrics.confusion_matrix.html) returns a 2d array of TN, FP, FN and TP\n",
    "\n",
    "2d array is an array with an array, we can access the elements using indexes much like a regular array\n",
    "\n",
    "In our case, we can think of the confusion_matrix as a table with rows and columns\n",
    "\n",
    "we access an element\\[row_idx\\]\\[col_idx\\]\n",
    "\n",
    "Let's extract tn and fp from the confusion matrix"
   ]
  },
  {
   "cell_type": "code",
   "execution_count": 12,
   "metadata": {
    "executionInfo": {
     "elapsed": 7,
     "status": "aborted",
     "timestamp": 1690877581412,
     "user": {
      "displayName": "John Lee",
      "userId": "02515819222392311164"
     },
     "user_tz": -540
    },
    "id": "0LQNkvsmJRTE"
   },
   "outputs": [],
   "source": [
    "tn = conf_mat[0][0]\n",
    "fp = conf_mat[0][1]\n",
    "fn = conf_mat[1][0]\n",
    "tp = conf_mat[1][1]"
   ]
  },
  {
   "cell_type": "markdown",
   "metadata": {
    "id": "PGREZ4AiJRTF"
   },
   "source": [
    "Great! Now let's print the outputs"
   ]
  },
  {
   "cell_type": "code",
   "execution_count": 13,
   "metadata": {
    "executionInfo": {
     "elapsed": 7,
     "status": "aborted",
     "timestamp": 1690877581412,
     "user": {
      "displayName": "John Lee",
      "userId": "02515819222392311164"
     },
     "user_tz": -540
    },
    "id": "SX4P9v4bJRTF"
   },
   "outputs": [
    {
     "name": "stdout",
     "output_type": "stream",
     "text": [
      "True Negatives (Correct Non-Defaults):  36476\n",
      "False Positives (Incorrect Defaults):  1\n",
      "False Negatives (Incorrect Non-Defaults):  10151\n",
      "True Positives (Correct Defaults) 3\n"
     ]
    }
   ],
   "source": [
    "print(\"True Negatives (Correct Non-Defaults): \", tn)\n",
    "print(\"False Positives (Incorrect Defaults): \", fp)\n",
    "print(\"False Negatives (Incorrect Non-Defaults): \", fn)\n",
    "print(\"True Positives (Correct Defaults)\", tp)"
   ]
  },
  {
   "cell_type": "markdown",
   "metadata": {
    "id": "PTGHvgQ3JRTF"
   },
   "source": [
    "Ok, now the 78% accuracy makes a bit more sense, our model is pretty much predicting all loans as non-defaults"
   ]
  },
  {
   "cell_type": "code",
   "execution_count": 43,
   "metadata": {
    "executionInfo": {
     "elapsed": 7,
     "status": "aborted",
     "timestamp": 1690877581412,
     "user": {
      "displayName": "John Lee",
      "userId": "02515819222392311164"
     },
     "user_tz": -540
    },
    "id": "QzH5dgQeJRTF"
   },
   "outputs": [
    {
     "data": {
      "image/png": "[encoded data removed]",
      "text/plain": [
       "<Figure size 640x480 with 2 Axes>"
      ]
     },
     "metadata": {},
     "output_type": "display_data"
    }
   ],
   "source": [
    "# First, calculate the confusion matrix\n",
    "confusion = confusion_matrix(y_test, logistic_model.predict(x_test))\n",
    "\n",
    "# Then, create the ConfusionMatrixDisplay object\n",
    "cm_display = ConfusionMatrixDisplay(confusion)\n",
    "\n",
    "# Finally, display the confusion matrix\n",
    "cm_display.plot()\n",
    "plt.show()"
   ]
  },
  {
   "cell_type": "markdown",
   "metadata": {
    "id": "MxDOr_eFJRTF"
   },
   "source": [
    "### Precision  = TP/TP + FP"
   ]
  },
  {
   "cell_type": "code",
   "execution_count": 21,
   "metadata": {
    "executionInfo": {
     "elapsed": 8,
     "status": "aborted",
     "timestamp": 1690877581413,
     "user": {
      "displayName": "John Lee",
      "userId": "02515819222392311164"
     },
     "user_tz": -540
    },
    "id": "_Y4ag1uXJRTF"
   },
   "outputs": [
    {
     "data": {
      "text/plain": [
       "0.75"
      ]
     },
     "execution_count": 21,
     "metadata": {},
     "output_type": "execute_result"
    }
   ],
   "source": [
    "precision = precision_score(y_test, preds)\n",
    "precision"
   ]
  },
  {
   "cell_type": "markdown",
   "metadata": {
    "id": "Oi9bCw_IJRTF"
   },
   "source": [
    "Ok, out of the positive predictions, 75% were actually positive. Although, we can see from the confusion matrix that the model  only predicted a small number of instances as positive."
   ]
  },
  {
   "cell_type": "markdown",
   "metadata": {
    "id": "tHiTUJrrJRTF"
   },
   "source": [
    "### Recall = TP/TP + FN"
   ]
  },
  {
   "cell_type": "code",
   "execution_count": 22,
   "metadata": {
    "executionInfo": {
     "elapsed": 7,
     "status": "aborted",
     "timestamp": 1690877581413,
     "user": {
      "displayName": "John Lee",
      "userId": "02515819222392311164"
     },
     "user_tz": -540
    },
    "id": "d7qsasQqJRTF"
   },
   "outputs": [
    {
     "data": {
      "text/plain": [
       "0.00029545006893834944"
      ]
     },
     "execution_count": 22,
     "metadata": {},
     "output_type": "execute_result"
    }
   ],
   "source": [
    "recall = recall_score(y_test, preds)\n",
    "recall"
   ]
  },
  {
   "cell_type": "markdown",
   "metadata": {
    "id": "XUuDcxdOJRTF"
   },
   "source": [
    "Recall of ~0.0003, we hardly identified any of the loan defaults, this model is not reliable"
   ]
  },
  {
   "cell_type": "markdown",
   "metadata": {
    "id": "ICfZYPhmJRTG"
   },
   "source": [
    "### F1 Score = 2((precision * recall)/(precision + recall))"
   ]
  },
  {
   "cell_type": "code",
   "execution_count": 24,
   "metadata": {
    "executionInfo": {
     "elapsed": 7,
     "status": "aborted",
     "timestamp": 1690877581413,
     "user": {
      "displayName": "John Lee",
      "userId": "02515819222392311164"
     },
     "user_tz": -540
    },
    "id": "uPQNM9YxJRTG"
   },
   "outputs": [
    {
     "data": {
      "text/plain": [
       "0.0005906674542232723"
      ]
     },
     "execution_count": 24,
     "metadata": {},
     "output_type": "execute_result"
    }
   ],
   "source": [
    "f1 = f1_score(y_test, preds)\n",
    "f1"
   ]
  },
  {
   "cell_type": "markdown",
   "metadata": {
    "id": "7Eywq0lBJRTG"
   },
   "source": [
    "f1 score of ~0.0006 should prove beyond doubt that our model is not reliable despite the 78% accuracy"
   ]
  },
  {
   "cell_type": "markdown",
   "metadata": {
    "id": "5DWBodKkJRTG"
   },
   "source": [
    "## Roc Curve\n",
    "\n"
   ]
  },
  {
   "cell_type": "code",
   "execution_count": 25,
   "metadata": {
    "executionInfo": {
     "elapsed": 7,
     "status": "aborted",
     "timestamp": 1690877581413,
     "user": {
      "displayName": "John Lee",
      "userId": "02515819222392311164"
     },
     "user_tz": -540
    },
    "id": "AN1MTnQhJRTG"
   },
   "outputs": [
    {
     "data": {
      "text/plain": [
       "array([[0.71535152, 0.28464848],\n",
       "       [0.82074095, 0.17925905],\n",
       "       [0.79445544, 0.20554456],\n",
       "       ...,\n",
       "       [0.77465234, 0.22534766],\n",
       "       [0.90236941, 0.09763059],\n",
       "       [0.74223881, 0.25776119]])"
      ]
     },
     "execution_count": 25,
     "metadata": {},
     "output_type": "execute_result"
    }
   ],
   "source": [
    "probs = logistic_model.predict_proba(x_test)\n",
    "probs"
   ]
  },
  {
   "cell_type": "markdown",
   "metadata": {
    "id": "coYHGWXaJRTG"
   },
   "source": [
    "The output of [predict_proba](https://scikit-learn.org/stable/modules/generated/sklearn.linear_model.LogisticRegression.html#sklearn.linear_model.LogisticRegression.predict_proba) is a multi-dimensional array"
   ]
  },
  {
   "cell_type": "code",
   "execution_count": 26,
   "metadata": {
    "executionInfo": {
     "elapsed": 7,
     "status": "aborted",
     "timestamp": 1690877581413,
     "user": {
      "displayName": "John Lee",
      "userId": "02515819222392311164"
     },
     "user_tz": -540
    },
    "id": "ei3b9VLGJRTG"
   },
   "outputs": [
    {
     "data": {
      "text/plain": [
       "(46631, 2)"
      ]
     },
     "execution_count": 26,
     "metadata": {},
     "output_type": "execute_result"
    }
   ],
   "source": [
    "probs.shape"
   ]
  },
  {
   "cell_type": "markdown",
   "metadata": {
    "id": "tjyeMDyqJRTG"
   },
   "source": [
    "Great! We have 46631 rows and 2 columns\n",
    "- Cells in the first column give the predicted probability that a data point belongs to class 0\n",
    "- Cells in the second column give the predicted probability that a data point belongs to class 1\n",
    "\n",
    "Let's look at the values in these columns"
   ]
  },
  {
   "cell_type": "code",
   "execution_count": 27,
   "metadata": {
    "executionInfo": {
     "elapsed": 7,
     "status": "aborted",
     "timestamp": 1690877581413,
     "user": {
      "displayName": "John Lee",
      "userId": "02515819222392311164"
     },
     "user_tz": -540
    },
    "id": "t8AA52qFJRTG"
   },
   "outputs": [
    {
     "name": "stdout",
     "output_type": "stream",
     "text": [
      "[0.71535152 0.82074095 0.79445544 ... 0.77465234 0.90236941 0.74223881]\n",
      "[0.28464848 0.17925905 0.20554456 ... 0.22534766 0.09763059 0.25776119]\n"
     ]
    }
   ],
   "source": [
    "print(probs[:, 0])\n",
    "print(probs[:, 1])"
   ]
  },
  {
   "cell_type": "markdown",
   "metadata": {
    "id": "YakRe80zJRTG"
   },
   "source": [
    "We can also create a dataframe and get the summary statistics for our predicted probabilities"
   ]
  },
  {
   "cell_type": "code",
   "execution_count": 28,
   "metadata": {
    "executionInfo": {
     "elapsed": 7,
     "status": "aborted",
     "timestamp": 1690877581413,
     "user": {
      "displayName": "John Lee",
      "userId": "02515819222392311164"
     },
     "user_tz": -540
    },
    "id": "MJFPtq3wJRTG"
   },
   "outputs": [
    {
     "data": {
      "text/html": [
       "<div>\n",
       "<style scoped>\n",
       "    .dataframe tbody tr th:only-of-type {\n",
       "        vertical-align: middle;\n",
       "    }\n",
       "\n",
       "    .dataframe tbody tr th {\n",
       "        vertical-align: top;\n",
       "    }\n",
       "\n",
       "    .dataframe thead th {\n",
       "        text-align: right;\n",
       "    }\n",
       "</style>\n",
       "<table border=\"1\" class=\"dataframe\">\n",
       "  <thead>\n",
       "    <tr style=\"text-align: right;\">\n",
       "      <th></th>\n",
       "      <th>prob_0</th>\n",
       "      <th>prob_1</th>\n",
       "    </tr>\n",
       "  </thead>\n",
       "  <tbody>\n",
       "    <tr>\n",
       "      <th>count</th>\n",
       "      <td>46631.000000</td>\n",
       "      <td>46631.000000</td>\n",
       "    </tr>\n",
       "    <tr>\n",
       "      <th>mean</th>\n",
       "      <td>0.783700</td>\n",
       "      <td>0.216300</td>\n",
       "    </tr>\n",
       "    <tr>\n",
       "      <th>std</th>\n",
       "      <td>0.067731</td>\n",
       "      <td>0.067731</td>\n",
       "    </tr>\n",
       "    <tr>\n",
       "      <th>min</th>\n",
       "      <td>0.480128</td>\n",
       "      <td>0.035128</td>\n",
       "    </tr>\n",
       "    <tr>\n",
       "      <th>25%</th>\n",
       "      <td>0.740033</td>\n",
       "      <td>0.169157</td>\n",
       "    </tr>\n",
       "    <tr>\n",
       "      <th>50%</th>\n",
       "      <td>0.787262</td>\n",
       "      <td>0.212738</td>\n",
       "    </tr>\n",
       "    <tr>\n",
       "      <th>75%</th>\n",
       "      <td>0.830843</td>\n",
       "      <td>0.259967</td>\n",
       "    </tr>\n",
       "    <tr>\n",
       "      <th>max</th>\n",
       "      <td>0.964872</td>\n",
       "      <td>0.519872</td>\n",
       "    </tr>\n",
       "  </tbody>\n",
       "</table>\n",
       "</div>"
      ],
      "text/plain": [
       "             prob_0        prob_1\n",
       "count  46631.000000  46631.000000\n",
       "mean       0.783700      0.216300\n",
       "std        0.067731      0.067731\n",
       "min        0.480128      0.035128\n",
       "25%        0.740033      0.169157\n",
       "50%        0.787262      0.212738\n",
       "75%        0.830843      0.259967\n",
       "max        0.964872      0.519872"
      ]
     },
     "execution_count": 28,
     "metadata": {},
     "output_type": "execute_result"
    }
   ],
   "source": [
    "probs_df = pd.DataFrame()\n",
    "probs_df['prob_0'] = probs[:, 0]\n",
    "probs_df['prob_1'] = probs[:, 1]\n",
    "\n",
    "probs_df.describe()"
   ]
  },
  {
   "cell_type": "markdown",
   "metadata": {
    "id": "Uwm8CQiTJRTG"
   },
   "source": [
    "### Plotting the ROC Curve\n"
   ]
  },
  {
   "cell_type": "code",
   "execution_count": 29,
   "metadata": {
    "executionInfo": {
     "elapsed": 8,
     "status": "aborted",
     "timestamp": 1690877581414,
     "user": {
      "displayName": "John Lee",
      "userId": "02515819222392311164"
     },
     "user_tz": -540
    },
    "id": "eU8SFtU1JRTG"
   },
   "outputs": [],
   "source": [
    "fpr, tpr, threshold = roc_curve(y_test, probs[:,1], pos_label=1)"
   ]
  },
  {
   "cell_type": "markdown",
   "metadata": {
    "id": "SrdPBhOnJRTK"
   },
   "source": [
    "The [roc_curve](https://scikit-learn.org/stable/modules/generated/sklearn.metrics.roc_curve.html) function returns 3 values\n",
    "\n",
    "- threshold\n",
    "- fpr (False Positive Rate)\n",
    "- tpr (True Positive Rate)\n",
    "\n",
    "Let's take a look at them"
   ]
  },
  {
   "cell_type": "code",
   "execution_count": 30,
   "metadata": {
    "executionInfo": {
     "elapsed": 8,
     "status": "aborted",
     "timestamp": 1690877581414,
     "user": {
      "displayName": "John Lee",
      "userId": "02515819222392311164"
     },
     "user_tz": -540
    },
    "id": "ltcMzC5ZJRTK"
   },
   "outputs": [
    {
     "name": "stdout",
     "output_type": "stream",
     "text": [
      "FPR:  [0.00000000e+00 2.74145352e-05 2.74145352e-05 ... 9.99725855e-01\n",
      " 9.99725855e-01 1.00000000e+00]\n",
      "TPR:  [0.00000000e+00 9.84833563e-05 2.95450069e-04 ... 9.99901517e-01\n",
      " 1.00000000e+00 1.00000000e+00]\n",
      "Threshold:  [1.51987151 0.51987151 0.50720064 ... 0.04979881 0.04973035 0.03512831]\n"
     ]
    }
   ],
   "source": [
    "print(\"FPR: \", fpr)\n",
    "print(\"TPR: \", tpr)\n",
    "print(\"Threshold: \", threshold)"
   ]
  },
  {
   "cell_type": "markdown",
   "metadata": {
    "id": "luz9yWQsJRTK"
   },
   "source": [
    "Ok each of these variables is an array of floating-point values, let's put them into a dataframe to try and make sense of them"
   ]
  },
  {
   "cell_type": "code",
   "execution_count": 31,
   "metadata": {
    "executionInfo": {
     "elapsed": 8,
     "status": "aborted",
     "timestamp": 1690877581414,
     "user": {
      "displayName": "John Lee",
      "userId": "02515819222392311164"
     },
     "user_tz": -540
    },
    "id": "eScBziDdJRTK"
   },
   "outputs": [
    {
     "data": {
      "text/html": [
       "<div>\n",
       "<style scoped>\n",
       "    .dataframe tbody tr th:only-of-type {\n",
       "        vertical-align: middle;\n",
       "    }\n",
       "\n",
       "    .dataframe tbody tr th {\n",
       "        vertical-align: top;\n",
       "    }\n",
       "\n",
       "    .dataframe thead th {\n",
       "        text-align: right;\n",
       "    }\n",
       "</style>\n",
       "<table border=\"1\" class=\"dataframe\">\n",
       "  <thead>\n",
       "    <tr style=\"text-align: right;\">\n",
       "      <th></th>\n",
       "      <th>fpr</th>\n",
       "      <th>tpr</th>\n",
       "      <th>threshold</th>\n",
       "    </tr>\n",
       "  </thead>\n",
       "  <tbody>\n",
       "    <tr>\n",
       "      <th>count</th>\n",
       "      <td>16427.000000</td>\n",
       "      <td>16427.000000</td>\n",
       "      <td>16427.000000</td>\n",
       "    </tr>\n",
       "    <tr>\n",
       "      <th>mean</th>\n",
       "      <td>0.413390</td>\n",
       "      <td>0.524687</td>\n",
       "      <td>0.231022</td>\n",
       "    </tr>\n",
       "    <tr>\n",
       "      <th>std</th>\n",
       "      <td>0.275016</td>\n",
       "      <td>0.287238</td>\n",
       "      <td>0.067392</td>\n",
       "    </tr>\n",
       "    <tr>\n",
       "      <th>min</th>\n",
       "      <td>0.000000</td>\n",
       "      <td>0.000000</td>\n",
       "      <td>0.035128</td>\n",
       "    </tr>\n",
       "    <tr>\n",
       "      <th>25%</th>\n",
       "      <td>0.176275</td>\n",
       "      <td>0.277083</td>\n",
       "      <td>0.185670</td>\n",
       "    </tr>\n",
       "    <tr>\n",
       "      <th>50%</th>\n",
       "      <td>0.382433</td>\n",
       "      <td>0.537522</td>\n",
       "      <td>0.227257</td>\n",
       "    </tr>\n",
       "    <tr>\n",
       "      <th>75%</th>\n",
       "      <td>0.629465</td>\n",
       "      <td>0.775064</td>\n",
       "      <td>0.271527</td>\n",
       "    </tr>\n",
       "    <tr>\n",
       "      <th>max</th>\n",
       "      <td>1.000000</td>\n",
       "      <td>1.000000</td>\n",
       "      <td>1.519872</td>\n",
       "    </tr>\n",
       "  </tbody>\n",
       "</table>\n",
       "</div>"
      ],
      "text/plain": [
       "                fpr           tpr     threshold\n",
       "count  16427.000000  16427.000000  16427.000000\n",
       "mean       0.413390      0.524687      0.231022\n",
       "std        0.275016      0.287238      0.067392\n",
       "min        0.000000      0.000000      0.035128\n",
       "25%        0.176275      0.277083      0.185670\n",
       "50%        0.382433      0.537522      0.227257\n",
       "75%        0.629465      0.775064      0.271527\n",
       "max        1.000000      1.000000      1.519872"
      ]
     },
     "execution_count": 31,
     "metadata": {},
     "output_type": "execute_result"
    }
   ],
   "source": [
    "roc_df = pd.DataFrame()\n",
    "roc_df['fpr'] = fpr\n",
    "roc_df['tpr'] = tpr\n",
    "roc_df['threshold'] = threshold\n",
    "\n",
    "roc_df.describe()"
   ]
  },
  {
   "cell_type": "markdown",
   "metadata": {
    "id": "HfHUW63eJRTK"
   },
   "source": [
    "- Each variable has 16454 values\n",
    "- The values of fpr and tpr range from 0 to 1\n",
    "\n",
    "Essentially, the roc_curve function is evaluating the tpr and fpr for our model using different classification thresholds\n",
    "\n",
    "- Each value in threshold represents a different classification threshold\n",
    "\n",
    "We can use these values to calculate AUC for our model\n",
    "\n",
    "The sklearn [auc](https://scikit-learn.org/stable/modules/generated/sklearn.metrics.auc.html) function takes two parameters\n",
    "\n",
    "- the fpr from [roc_curve](https://scikit-learn.org/stable/modules/generated/sklearn.metrics.roc_curve.html)\n",
    "- the tpr from [roc_curve](https://scikit-learn.org/stable/modules/generated/sklearn.metrics.roc_curve.html)"
   ]
  },
  {
   "cell_type": "code",
   "execution_count": 32,
   "metadata": {
    "executionInfo": {
     "elapsed": 7,
     "status": "aborted",
     "timestamp": 1690877581414,
     "user": {
      "displayName": "John Lee",
      "userId": "02515819222392311164"
     },
     "user_tz": -540
    },
    "id": "nFY_IhKgJRTL"
   },
   "outputs": [
    {
     "name": "stdout",
     "output_type": "stream",
     "text": [
      "AUC:  0.6095954982363362\n"
     ]
    }
   ],
   "source": [
    "roc_auc = auc(fpr, tpr)\n",
    "print(\"AUC: \", roc_auc)"
   ]
  },
  {
   "cell_type": "markdown",
   "metadata": {
    "id": "a6nWUwfDJRTL"
   },
   "source": [
    "Our model has an AUC of ~0.61\n",
    "\n",
    "- The AUC score for a random classifier is 0.5!\n",
    "- Our model is not doing a good job of separating the classes"
   ]
  },
  {
   "cell_type": "code",
   "execution_count": 33,
   "metadata": {
    "executionInfo": {
     "elapsed": 7,
     "status": "aborted",
     "timestamp": 1690877581414,
     "user": {
      "displayName": "John Lee",
      "userId": "02515819222392311164"
     },
     "user_tz": -540
    },
    "id": "VaabN94dJRTL"
   },
   "outputs": [],
   "source": [
    "def plot_roc_curve(fpr, tpr, roc_auc):\n",
    "    plt.title('Receiver Operating Characteristic')\n",
    "    plt.plot(fpr, tpr, 'b', label = 'AUC = %0.2f' % roc_auc)\n",
    "    plt.legend(loc = 'lower right')\n",
    "    plt.plot([0, 1], [0, 1],'r--')\n",
    "    plt.xlim([0, 1])\n",
    "    plt.ylim([0, 1])\n",
    "    plt.ylabel('True Positive Rate')\n",
    "    plt.xlabel('False Positive Rate')\n",
    "    plt.show()"
   ]
  },
  {
   "cell_type": "code",
   "execution_count": 34,
   "metadata": {
    "executionInfo": {
     "elapsed": 8,
     "status": "aborted",
     "timestamp": 1690877581415,
     "user": {
      "displayName": "John Lee",
      "userId": "02515819222392311164"
     },
     "user_tz": -540
    },
    "id": "oafBYi_wJRTL"
   },
   "outputs": [
    {
     "data": {
      "image/png": "[encoded data removed]",
      "text/plain": [
       "<Figure size 640x480 with 1 Axes>"
      ]
     },
     "metadata": {},
     "output_type": "display_data"
    }
   ],
   "source": [
    "plot_roc_curve(fpr, tpr, roc_auc)"
   ]
  },
  {
   "cell_type": "markdown",
   "metadata": {
    "id": "dNZwvKMTJRTL"
   },
   "source": [
    "## Advanced Evaluation"
   ]
  },
  {
   "cell_type": "code",
   "execution_count": 35,
   "metadata": {
    "executionInfo": {
     "elapsed": 8,
     "status": "aborted",
     "timestamp": 1690877581415,
     "user": {
      "displayName": "John Lee",
      "userId": "02515819222392311164"
     },
     "user_tz": -540
    },
    "id": "_5t-gl8BJRTL"
   },
   "outputs": [],
   "source": [
    "results_df = pd.DataFrame()\n",
    "results_df['true_class'] = y_test\n",
    "results_df['predicted_class'] = list(preds)\n",
    "results_df['default_prob'] = probs[:, 1]"
   ]
  },
  {
   "cell_type": "markdown",
   "metadata": {
    "id": "kbzDnk7XJRTL"
   },
   "source": [
    "### Class Prediction Percentages"
   ]
  },
  {
   "cell_type": "code",
   "execution_count": 36,
   "metadata": {
    "executionInfo": {
     "elapsed": 8,
     "status": "aborted",
     "timestamp": 1690877581415,
     "user": {
      "displayName": "John Lee",
      "userId": "02515819222392311164"
     },
     "user_tz": -540
    },
    "id": "fpJZ8YyDJRTL"
   },
   "outputs": [
    {
     "data": {
      "text/plain": [
       "true_class  predicted_class\n",
       "0           0                  0.999973\n",
       "            1                  0.000027\n",
       "1           0                  0.999705\n",
       "            1                  0.000295\n",
       "Name: predicted_class, dtype: float64"
      ]
     },
     "execution_count": 36,
     "metadata": {},
     "output_type": "execute_result"
    }
   ],
   "source": [
    "results_df.groupby('true_class')['predicted_class'].value_counts(normalize=True)"
   ]
  },
  {
   "cell_type": "markdown",
   "metadata": {
    "id": "yq4hY_pEJRTL"
   },
   "source": [
    "As we expected, nearly all of our test cases were classified as 0s (non defaulted loans)"
   ]
  },
  {
   "cell_type": "markdown",
   "metadata": {
    "id": "Z46OOsExJRTM"
   },
   "source": [
    "### Class Probability Distributions"
   ]
  },
  {
   "cell_type": "code",
   "execution_count": 37,
   "metadata": {
    "executionInfo": {
     "elapsed": 8,
     "status": "aborted",
     "timestamp": 1690877581415,
     "user": {
      "displayName": "John Lee",
      "userId": "02515819222392311164"
     },
     "user_tz": -540
    },
    "id": "w2LVUz76JRTM"
   },
   "outputs": [],
   "source": [
    "default_probs_f = results_df[results_df['true_class'] == 0]['default_prob']"
   ]
  },
  {
   "cell_type": "code",
   "execution_count": 38,
   "metadata": {
    "executionInfo": {
     "elapsed": 8,
     "status": "aborted",
     "timestamp": 1690877581415,
     "user": {
      "displayName": "John Lee",
      "userId": "02515819222392311164"
     },
     "user_tz": -540
    },
    "id": "uT3lDhivJRTM"
   },
   "outputs": [],
   "source": [
    "default_probs_t = results_df[results_df['true_class'] == 1]['default_prob']"
   ]
  },
  {
   "cell_type": "markdown",
   "metadata": {
    "id": "qei_n7APJRTM"
   },
   "source": [
    "We can use seaborn [distplot](https://seaborn.pydata.org/generated/seaborn.distplot.html) to plot the distributions of our new variables on one chart"
   ]
  },
  {
   "cell_type": "code",
   "execution_count": 39,
   "metadata": {
    "executionInfo": {
     "elapsed": 9,
     "status": "aborted",
     "timestamp": 1690877581416,
     "user": {
      "displayName": "John Lee",
      "userId": "02515819222392311164"
     },
     "user_tz": -540
    },
    "id": "nDpvZvXYJRTM"
   },
   "outputs": [
    {
     "name": "stderr",
     "output_type": "stream",
     "text": [
      "/var/folders/ss/v59ygfzj7m1dkgsklj3ck7m80000gn/T/ipykernel_1981/684404094.py:1: UserWarning: \n",
      "\n",
      "`distplot` is a deprecated function and will be removed in seaborn v0.14.0.\n",
      "\n",
      "Please adapt your code to use either `displot` (a figure-level function with\n",
      "similar flexibility) or `kdeplot` (an axes-level function for kernel density plots).\n",
      "\n",
      "For a guide to updating your code to use the new functions, please see\n",
      "https://gist.github.com/mwaskom/de44147ed2974457ad6372750bbe5751\n",
      "\n",
      "  sns.distplot(default_probs_f, label=\"No Default\", hist=False)\n",
      "/var/folders/ss/v59ygfzj7m1dkgsklj3ck7m80000gn/T/ipykernel_1981/684404094.py:2: UserWarning: \n",
      "\n",
      "`distplot` is a deprecated function and will be removed in seaborn v0.14.0.\n",
      "\n",
      "Please adapt your code to use either `displot` (a figure-level function with\n",
      "similar flexibility) or `kdeplot` (an axes-level function for kernel density plots).\n",
      "\n",
      "For a guide to updating your code to use the new functions, please see\n",
      "https://gist.github.com/mwaskom/de44147ed2974457ad6372750bbe5751\n",
      "\n",
      "  sns.distplot(default_probs_t, label=\"Default\", hist=False)\n"
     ]
    },
    {
     "data": {
      "image/png": "[encoded data removed]",
      "text/plain": [
       "<Figure size 640x480 with 1 Axes>"
      ]
     },
     "metadata": {},
     "output_type": "display_data"
    }
   ],
   "source": [
    "sns.distplot(default_probs_f, label=\"No Default\", hist=False)\n",
    "sns.distplot(default_probs_t, label=\"Default\", hist=False)\n",
    "plt.legend(loc = 'best')\n",
    "plt.show()"
   ]
  },
  {
   "cell_type": "markdown",
   "metadata": {
    "id": "axL8wGQXJRTM"
   },
   "source": [
    "This chart again shows us that the model has very poor separability\n",
    "\n",
    "However, we can see that the probability of a defaulted loan being predicted as a default is generally higher than the same probability for a non-default so maybe there is something we can work with"
   ]
  },
  {
   "cell_type": "code",
   "execution_count": 40,
   "metadata": {
    "executionInfo": {
     "elapsed": 9,
     "status": "aborted",
     "timestamp": 1690877581416,
     "user": {
      "displayName": "John Lee",
      "userId": "02515819222392311164"
     },
     "user_tz": -540
    },
    "id": "0HqeaO6bJRTM"
   },
   "outputs": [],
   "source": [
    "def eval_model(model, x_test, y_test):\n",
    "    preds = model.predict(x_test)\n",
    "    probs = model.predict_proba(x_test)\n",
    "\n",
    "    accuracy = accuracy_score(y_test, preds)\n",
    "    recall = recall_score(y_test, preds)\n",
    "    precision = precision_score(y_test, preds)\n",
    "    f1 = f1_score(y_test, preds)\n",
    "\n",
    "    ConfusionMatrixDisplay(model, x_test, y_test)\n",
    "    plt.show()\n",
    "\n",
    "    print(\"\\n\")\n",
    "    print(\"Accuracy: \", accuracy)\n",
    "    print(\"Precision: \", precision)\n",
    "    print(\"Recall: \", recall)\n",
    "    print(\"F1: \", f1)\n",
    "\n",
    "    #Show ROC Curve\n",
    "    fpr, tpr, threshold = roc_curve(y_test, probs[:,1], pos_label=1)\n",
    "    roc_auc = auc(fpr, tpr)\n",
    "    print(\"AUC: \", roc_auc)\n",
    "\n",
    "    plot_roc_curve(fpr, tpr, roc_auc)\n",
    "\n",
    "    results_df = pd.DataFrame()\n",
    "    results_df['true_class'] = y_test\n",
    "    results_df['predicted_class'] = list(preds)\n",
    "    results_df['default_prob'] = probs[:, 1]\n",
    "\n",
    "    #plot the distribution of probabilities for the estimated classes\n",
    "    sns.distplot(results_df[results_df['true_class'] == 0]['default_prob'], label=\"No Default\", hist=False)\n",
    "    sns.distplot(results_df[results_df['true_class'] == 1]['default_prob'], label=\"Default\", hist=False)\n",
    "    plt.show()\n",
    "\n",
    "    #see the true class versus predicted class as a percentage\n",
    "    print(results_df.groupby('true_class')['predicted_class'].value_counts(normalize=True))"
   ]
  },
  {
   "cell_type": "code",
   "execution_count": 42,
   "metadata": {
    "executionInfo": {
     "elapsed": 9,
     "status": "aborted",
     "timestamp": 1690877581416,
     "user": {
      "displayName": "John Lee",
      "userId": "02515819222392311164"
     },
     "user_tz": -540
    },
    "id": "qpcVAKPjJRTM"
   },
   "outputs": [
    {
     "data": {
      "image/png": "[encoded data removed]",
      "text/plain": [
       "<Figure size 640x480 with 2 Axes>"
      ]
     },
     "metadata": {},
     "output_type": "display_data"
    }
   ],
   "source": [
    "def eval_model(model, x_test, y_test):\n",
    "    preds = model.predict(x_test)\n",
    "    confusion = confusion_matrix(y_test, preds)\n",
    "    \n",
    "    # Create the ConfusionMatrixDisplay object\n",
    "    cm_display = ConfusionMatrixDisplay(confusion)\n",
    "    \n",
    "    # Plot the confusion matrix\n",
    "    cm_display.plot()\n",
    "    plt.show()\n",
    "\n",
    "# Assuming you have already defined logistic_model, x_test, and y_test\n",
    "eval_model(logistic_model, x_test, y_test)"
   ]
  },
  {
   "cell_type": "code",
   "execution_count": null,
   "metadata": {
    "executionInfo": {
     "elapsed": 9,
     "status": "aborted",
     "timestamp": 1690877581416,
     "user": {
      "displayName": "John Lee",
      "userId": "02515819222392311164"
     },
     "user_tz": -540
    },
    "id": "Bk7UIyevJRTN"
   },
   "outputs": [],
   "source": []
  }
 ],
 "metadata": {
  "colab": {
   "provenance": []
  },
  "kernelspec": {
   "display_name": "Python 3 (ipykernel)",
   "language": "python",
   "name": "python3"
  },
  "language_info": {
   "codemirror_mode": {
    "name": "ipython",
    "version": 3
   },
   "file_extension": ".py",
   "mimetype": "text/x-python",
   "name": "python",
   "nbconvert_exporter": "python",
   "pygments_lexer": "ipython3",
   "version": "3.11.3"
  }
 },
 "nbformat": 4,
 "nbformat_minor": 1
}
